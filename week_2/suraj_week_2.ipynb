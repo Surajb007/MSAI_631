{
 "cells": [
  {
   "cell_type": "code",
   "execution_count": 1,
   "metadata": {},
   "outputs": [
    {
     "name": "stdout",
     "output_type": "stream",
     "text": [
      "Defaulting to user installation because normal site-packages is not writeable\n",
      "Requirement already satisfied: flask in /Users/surajbondugula/Library/Python/3.9/lib/python/site-packages (3.1.0)\n",
      "Requirement already satisfied: Werkzeug>=3.1 in /Users/surajbondugula/Library/Python/3.9/lib/python/site-packages (from flask) (3.1.3)\n",
      "Requirement already satisfied: Jinja2>=3.1.2 in /Users/surajbondugula/Library/Python/3.9/lib/python/site-packages (from flask) (3.1.5)\n",
      "Requirement already satisfied: itsdangerous>=2.2 in /Users/surajbondugula/Library/Python/3.9/lib/python/site-packages (from flask) (2.2.0)\n",
      "Requirement already satisfied: click>=8.1.3 in /Users/surajbondugula/Library/Python/3.9/lib/python/site-packages (from flask) (8.1.8)\n",
      "Requirement already satisfied: blinker>=1.9 in /Users/surajbondugula/Library/Python/3.9/lib/python/site-packages (from flask) (1.9.0)\n",
      "Requirement already satisfied: importlib-metadata>=3.6 in /Users/surajbondugula/Library/Python/3.9/lib/python/site-packages (from flask) (8.5.0)\n",
      "Requirement already satisfied: zipp>=3.20 in /Users/surajbondugula/Library/Python/3.9/lib/python/site-packages (from importlib-metadata>=3.6->flask) (3.21.0)\n",
      "Requirement already satisfied: MarkupSafe>=2.0 in /Users/surajbondugula/Library/Python/3.9/lib/python/site-packages (from Jinja2>=3.1.2->flask) (3.0.2)\n",
      "\n",
      "\u001b[1m[\u001b[0m\u001b[34;49mnotice\u001b[0m\u001b[1;39;49m]\u001b[0m\u001b[39;49m A new release of pip is available: \u001b[0m\u001b[31;49m24.2\u001b[0m\u001b[39;49m -> \u001b[0m\u001b[32;49m24.3.1\u001b[0m\n",
      "\u001b[1m[\u001b[0m\u001b[34;49mnotice\u001b[0m\u001b[1;39;49m]\u001b[0m\u001b[39;49m To update, run: \u001b[0m\u001b[32;49m/Library/Developer/CommandLineTools/usr/bin/python3 -m pip install --upgrade pip\u001b[0m\n"
     ]
    }
   ],
   "source": [
    "!pip install flask"
   ]
  },
  {
   "cell_type": "code",
   "execution_count": 1,
   "metadata": {},
   "outputs": [],
   "source": [
    "from flask import Flask, request, jsonify, render_template\n",
    "import logging\n",
    "\n",
    "app = Flask(\"test\", template_folder='/Users/surajbondugula/Documents/Cumberlands/human_computer_interaction/week_2/templates/')\n",
    "logger = logging.getLogger(\"test\")\n",
    "logger.setLevel(logging.INFO)\n",
    "\n",
    "# Setting up route\n",
    "@app.route(\"/\")\n",
    "def hello_word():\n",
    "    logger.debug(\"Hello, world\")\n",
    "    return render_template(\"index.html\")"
   ]
  },
  {
   "cell_type": "code",
   "execution_count": 2,
   "metadata": {},
   "outputs": [],
   "source": [
    "import os\n",
    "import platform\n",
    "\n",
    "def is_notebook() -> bool:\n",
    "    try:\n",
    "        print(os.name)\n",
    "        print(platform.system())\n",
    "        shell = get_ipython().__class__.__name__\n",
    "        logger.debug(f\"shell={shell}\")\n",
    "        print(shell)\n",
    "        if shell == \"ZMQInteractiveShell\":\n",
    "            return True\n",
    "        elif shell == \"TerminalInteractiveShell\":\n",
    "            return False\n",
    "        else:\n",
    "            return False\n",
    "    except NameError:\n",
    "        return False"
   ]
  },
  {
   "cell_type": "code",
   "execution_count": 3,
   "metadata": {},
   "outputs": [
    {
     "name": "stdout",
     "output_type": "stream",
     "text": [
      "posix\n",
      "Darwin\n",
      "ZMQInteractiveShell\n",
      "running under notebook\n",
      " * Serving Flask app 'test'\n",
      " * Debug mode: off\n"
     ]
    },
    {
     "name": "stderr",
     "output_type": "stream",
     "text": [
      "\u001b[31m\u001b[1mWARNING: This is a development server. Do not use it in a production deployment. Use a production WSGI server instead.\u001b[0m\n",
      " * Running on http://localhost:5003\n",
      "\u001b[33mPress CTRL+C to quit\u001b[0m\n",
      "127.0.0.1 - - [19/Jan/2025 17:44:58] \"GET / HTTP/1.1\" 200 -\n",
      "127.0.0.1 - - [19/Jan/2025 18:23:40] \"GET / HTTP/1.1\" 200 -\n"
     ]
    }
   ],
   "source": [
    "if is_notebook():\n",
    "    print(\"running under notebook\")\n",
    "    app.run(host=\"localhost\", port=5003)"
   ]
  },
  {
   "cell_type": "code",
   "execution_count": null,
   "metadata": {},
   "outputs": [],
   "source": []
  }
 ],
 "metadata": {
  "kernelspec": {
   "display_name": "Python 3",
   "language": "python",
   "name": "python3"
  },
  "language_info": {
   "codemirror_mode": {
    "name": "ipython",
    "version": 3
   },
   "file_extension": ".py",
   "mimetype": "text/x-python",
   "name": "python",
   "nbconvert_exporter": "python",
   "pygments_lexer": "ipython3",
   "version": "3.9.6"
  }
 },
 "nbformat": 4,
 "nbformat_minor": 2
}
